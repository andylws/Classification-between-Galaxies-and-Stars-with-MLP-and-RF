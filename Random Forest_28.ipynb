{
 "cells": [
  {
   "cell_type": "code",
   "execution_count": 1,
   "metadata": {},
   "outputs": [],
   "source": [
    "import pandas as pd\n",
    "import numpy as np\n",
    "from sklearn import metrics\n",
    "from sklearn.ensemble import RandomForestClassifier"
   ]
  },
  {
   "cell_type": "code",
   "execution_count": 2,
   "metadata": {},
   "outputs": [],
   "source": [
    "train_df = pd.read_csv('./archive/data/train/train_rgb_28.csv')\n",
    "\n",
    "X_train = train_df.values[:, 1:].astype(float)\n",
    "Y_train = train_df.values[:, 0]"
   ]
  },
  {
   "cell_type": "code",
   "execution_count": 3,
   "metadata": {},
   "outputs": [],
   "source": [
    "clf_1 = RandomForestClassifier(1)\n",
    "clf_1 = clf_1.fit(X_train, Y_train)\n",
    "Y_pred_train_1 = clf_1.predict(X_train)\n",
    "\n",
    "clf_5 = RandomForestClassifier(5)\n",
    "clf_5 = clf_5.fit(X_train, Y_train)\n",
    "Y_pred_train_5 = clf_5.predict(X_train)\n",
    "\n",
    "clf_10 = RandomForestClassifier(10)\n",
    "clf_10 = clf_10.fit(X_train, Y_train)\n",
    "Y_pred_train_10 = clf_10.predict(X_train)\n",
    "\n",
    "clf_50 = RandomForestClassifier(50)\n",
    "clf_50 = clf_50.fit(X_train, Y_train)\n",
    "Y_pred_train_50 = clf_50.predict(X_train)\n",
    "\n",
    "clf_100 = RandomForestClassifier(100)\n",
    "clf_100 = clf_100.fit(X_train, Y_train)\n",
    "Y_pred_train_100 = clf_100.predict(X_train)\n",
    "\n",
    "clf_500 = RandomForestClassifier(500)\n",
    "clf_500 = clf_500.fit(X_train, Y_train)\n",
    "Y_pred_train_500 = clf_500.predict(X_train)"
   ]
  },
  {
   "cell_type": "code",
   "execution_count": 4,
   "metadata": {},
   "outputs": [
    {
     "name": "stdout",
     "output_type": "stream",
     "text": [
      "Random Forest 28x28 pixels training dataset\n",
      "1 tree for training dataset: 0.9572446555819477\n",
      "5 trees for training dataset: 0.9914989373671709\n",
      "10 trees for training dataset: 0.9938742342792849\n",
      "50 trees for training dataset: 0.9998749843730467\n",
      "100 trees for training dataset: 0.9998749843730467\n",
      "500 trees for training dataset: 1.0\n"
     ]
    }
   ],
   "source": [
    "print('Random Forest 28x28 pixels training dataset')\n",
    "\n",
    "print('1 tree for training dataset: ' + str(metrics.accuracy_score(Y_train, Y_pred_train_1)))\n",
    "print('5 trees for training dataset: ' + str(metrics.accuracy_score(Y_train, Y_pred_train_5)))\n",
    "print('10 trees for training dataset: ' + str(metrics.accuracy_score(Y_train, Y_pred_train_10)))\n",
    "print('50 trees for training dataset: ' + str(metrics.accuracy_score(Y_train, Y_pred_train_50)))\n",
    "print('100 trees for training dataset: ' + str(metrics.accuracy_score(Y_train, Y_pred_train_100)))\n",
    "print('500 trees for training dataset: ' + str(metrics.accuracy_score(Y_train, Y_pred_train_500)))"
   ]
  },
  {
   "cell_type": "markdown",
   "metadata": {},
   "source": [
    "----"
   ]
  },
  {
   "cell_type": "code",
   "execution_count": 5,
   "metadata": {},
   "outputs": [],
   "source": [
    "test_df = pd.read_csv('./archive/data/validation/test_rgb_28.csv')\n",
    "\n",
    "X_test = test_df.values[:, 1:].astype(float)\n",
    "Y_test = test_df.values[:, 0]"
   ]
  },
  {
   "cell_type": "code",
   "execution_count": 6,
   "metadata": {},
   "outputs": [
    {
     "name": "stdout",
     "output_type": "stream",
     "text": [
      "Random Forest 28x28 pixels test dataset\n"
     ]
    }
   ],
   "source": [
    "print('Random Forest 28x28 pixels test dataset')\n",
    "\n",
    "Y_pred_test_1 = clf_1.predict(X_test)\n",
    "Y_pred_test_5 = clf_5.predict(X_test)\n",
    "Y_pred_test_10 = clf_10.predict(X_test)\n",
    "Y_pred_test_50 = clf_50.predict(X_test)\n",
    "Y_pred_test_100 = clf_100.predict(X_test)\n",
    "Y_pred_test_500 = clf_500.predict(X_test)"
   ]
  },
  {
   "cell_type": "code",
   "execution_count": 7,
   "metadata": {},
   "outputs": [
    {
     "name": "stdout",
     "output_type": "stream",
     "text": [
      "1 tree for test dataset: 0.8934467233616809\n",
      "5 trees for test dataset: 0.9279639819909955\n",
      "10 trees for test dataset: 0.935967983991996\n",
      "50 trees for test dataset: 0.9449724862431216\n",
      "100 trees for test dataset: 0.9449724862431216\n",
      "500 trees for test dataset: 0.9449724862431216\n"
     ]
    }
   ],
   "source": [
    "print('1 tree for test dataset: ' + str(metrics.accuracy_score(Y_test, Y_pred_test_1)))\n",
    "print('5 trees for test dataset: ' + str(metrics.accuracy_score(Y_test, Y_pred_test_5)))\n",
    "print('10 trees for test dataset: ' + str(metrics.accuracy_score(Y_test, Y_pred_test_10)))\n",
    "print('50 trees for test dataset: ' + str(metrics.accuracy_score(Y_test, Y_pred_test_50)))\n",
    "print('100 trees for test dataset: ' + str(metrics.accuracy_score(Y_test, Y_pred_test_100)))\n",
    "print('500 trees for test dataset: ' + str(metrics.accuracy_score(Y_test, Y_pred_test_500)))"
   ]
  }
 ],
 "metadata": {
  "kernelspec": {
   "display_name": "Python 3",
   "language": "python",
   "name": "python3"
  },
  "language_info": {
   "codemirror_mode": {
    "name": "ipython",
    "version": 3
   },
   "file_extension": ".py",
   "mimetype": "text/x-python",
   "name": "python",
   "nbconvert_exporter": "python",
   "pygments_lexer": "ipython3",
   "version": "3.7.6"
  }
 },
 "nbformat": 4,
 "nbformat_minor": 4
}
