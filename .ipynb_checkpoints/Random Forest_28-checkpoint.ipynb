{
 "cells": [
  {
   "cell_type": "code",
   "execution_count": 2,
   "metadata": {},
   "outputs": [],
   "source": [
    "import pandas as pd\n",
    "import numpy as np\n",
    "from sklearn import metrics\n",
    "from sklearn.ensemble import RandomForestClassifier"
   ]
  },
  {
   "cell_type": "code",
   "execution_count": 2,
   "metadata": {},
   "outputs": [],
   "source": [
    "train_df = pd.read_csv('./archive/data/train/train_rgb_28.csv')\n",
    "\n",
    "X_train = train_df.values[:, 1:].astype(float)\n",
    "Y_train = train_df.values[:, 0]"
   ]
  },
  {
   "cell_type": "code",
   "execution_count": 3,
   "metadata": {},
   "outputs": [
    {
     "name": "stdout",
     "output_type": "stream",
     "text": [
      "1 tree for training dataset: 0.9563695461932742\n"
     ]
    }
   ],
   "source": [
    "clf_1 = RandomForestClassifier(1)\n",
    "clf_1 = clf_1.fit(X_train, Y_train)\n",
    "\n",
    "Y_pred_train_1 = clf_1.predict(X_train)\n",
    "print('1 tree for training dataset: ' + str(metrics.accuracy_score(Y_train, Y_pred_train_1)))"
   ]
  },
  {
   "cell_type": "code",
   "execution_count": 4,
   "metadata": {},
   "outputs": [
    {
     "name": "stdout",
     "output_type": "stream",
     "text": [
      "5 trees for training dataset: 0.9917489686210776\n"
     ]
    }
   ],
   "source": [
    "clf_5 = RandomForestClassifier(5)\n",
    "clf_5 = clf_5.fit(X_train, Y_train)\n",
    "\n",
    "Y_pred_train_5 = clf_5.predict(X_train)\n",
    "print('5 trees for training dataset: ' + str(metrics.accuracy_score(Y_train, Y_pred_train_5)))"
   ]
  },
  {
   "cell_type": "code",
   "execution_count": 5,
   "metadata": {},
   "outputs": [
    {
     "name": "stdout",
     "output_type": "stream",
     "text": [
      "10 trees for training dataset: 0.995249406175772\n"
     ]
    }
   ],
   "source": [
    "clf_10 = RandomForestClassifier(10)\n",
    "clf_10 = clf_10.fit(X_train, Y_train)\n",
    "\n",
    "Y_pred_train_10 = clf_10.predict(X_train)\n",
    "print('10 trees for training dataset: ' + str(metrics.accuracy_score(Y_train, Y_pred_train_10)))"
   ]
  },
  {
   "cell_type": "code",
   "execution_count": 6,
   "metadata": {},
   "outputs": [
    {
     "name": "stdout",
     "output_type": "stream",
     "text": [
      "50 trees for training dataset: 0.9997499687460932\n"
     ]
    }
   ],
   "source": [
    "clf_50 = RandomForestClassifier(50)\n",
    "clf_50 = clf_50.fit(X_train, Y_train)\n",
    "\n",
    "Y_pred_train_50 = clf_50.predict(X_train)\n",
    "print('50 trees for training dataset: ' + str(metrics.accuracy_score(Y_train, Y_pred_train_50)))"
   ]
  },
  {
   "cell_type": "code",
   "execution_count": 7,
   "metadata": {},
   "outputs": [
    {
     "name": "stdout",
     "output_type": "stream",
     "text": [
      "100 trees for training dataset: 1.0\n"
     ]
    }
   ],
   "source": [
    "clf_100 = RandomForestClassifier(100)\n",
    "clf_100 = clf_100.fit(X_train, Y_train)\n",
    "\n",
    "Y_pred_train_100 = clf_100.predict(X_train)\n",
    "print('100 trees for training dataset: ' + str(metrics.accuracy_score(Y_train, Y_pred_train_100)))"
   ]
  },
  {
   "cell_type": "code",
   "execution_count": 8,
   "metadata": {},
   "outputs": [
    {
     "name": "stdout",
     "output_type": "stream",
     "text": [
      "500 trees for training dataset: 1.0\n"
     ]
    }
   ],
   "source": [
    "clf_500 = RandomForestClassifier(500)\n",
    "clf_500 = clf_500.fit(X_train, Y_train)\n",
    "\n",
    "Y_pred_train_500 = clf_500.predict(X_train)\n",
    "print('500 trees for training dataset: ' + str(metrics.accuracy_score(Y_train, Y_pred_train_500)))"
   ]
  },
  {
   "cell_type": "code",
   "execution_count": null,
   "metadata": {},
   "outputs": [],
   "source": [
    "clf_1 = RandomForestClassifier(1)\n",
    "clf_1 = clf_1.fit(X_train, Y_train)\n",
    "Y_pred_train_1 = clf_1.predict(X_train)\n",
    "\n",
    "clf_5 = RandomForestClassifier(5)\n",
    "clf_5 = clf_5.fit(X_train, Y_train)\n",
    "Y_pred_train_5 = clf_5.predict(X_train)\n",
    "\n",
    "clf_10 = RandomForestClassifier(10)\n",
    "clf_10 = clf_10.fit(X_train, Y_train)\n",
    "Y_pred_train_10 = clf_10.predict(X_train)\n",
    "\n",
    "clf_50 = RandomForestClassifier(50)\n",
    "clf_50 = clf_50.fit(X_train, Y_train)\n",
    "Y_pred_train_50 = clf_50.predict(X_train)\n",
    "\n",
    "clf_100 = RandomForestClassifier(100)\n",
    "clf_100 = clf_100.fit(X_train, Y_train)\n",
    "Y_pred_train_100 = clf_100.predict(X_train)\n",
    "\n",
    "clf_500 = RandomForestClassifier(500)\n",
    "clf_500 = clf_500.fit(X_train, Y_train)\n",
    "Y_pred_train_500 = clf_500.predict(X_train)"
   ]
  },
  {
   "cell_type": "code",
   "execution_count": 1,
   "metadata": {},
   "outputs": [
    {
     "ename": "NameError",
     "evalue": "name 'metrics' is not defined",
     "output_type": "error",
     "traceback": [
      "\u001b[1;31m---------------------------------------------------------------------------\u001b[0m",
      "\u001b[1;31mNameError\u001b[0m                                 Traceback (most recent call last)",
      "\u001b[1;32m<ipython-input-1-c0f9c0af9f5e>\u001b[0m in \u001b[0;36m<module>\u001b[1;34m\u001b[0m\n\u001b[1;32m----> 1\u001b[1;33m \u001b[0mprint\u001b[0m\u001b[1;33m(\u001b[0m\u001b[1;34m'1 tree for training dataset: '\u001b[0m \u001b[1;33m+\u001b[0m \u001b[0mstr\u001b[0m\u001b[1;33m(\u001b[0m\u001b[0mmetrics\u001b[0m\u001b[1;33m.\u001b[0m\u001b[0maccuracy_score\u001b[0m\u001b[1;33m(\u001b[0m\u001b[0mY_train\u001b[0m\u001b[1;33m,\u001b[0m \u001b[0mY_pred_train_1\u001b[0m\u001b[1;33m)\u001b[0m\u001b[1;33m)\u001b[0m\u001b[1;33m)\u001b[0m\u001b[1;33m\u001b[0m\u001b[1;33m\u001b[0m\u001b[0m\n\u001b[0m\u001b[0;32m      2\u001b[0m \u001b[0mprint\u001b[0m\u001b[1;33m(\u001b[0m\u001b[1;34m'5 trees for training dataset: '\u001b[0m \u001b[1;33m+\u001b[0m \u001b[0mstr\u001b[0m\u001b[1;33m(\u001b[0m\u001b[0mmetrics\u001b[0m\u001b[1;33m.\u001b[0m\u001b[0maccuracy_score\u001b[0m\u001b[1;33m(\u001b[0m\u001b[0mY_train\u001b[0m\u001b[1;33m,\u001b[0m \u001b[0mY_pred_train_5\u001b[0m\u001b[1;33m)\u001b[0m\u001b[1;33m)\u001b[0m\u001b[1;33m)\u001b[0m\u001b[1;33m\u001b[0m\u001b[1;33m\u001b[0m\u001b[0m\n\u001b[0;32m      3\u001b[0m \u001b[0mprint\u001b[0m\u001b[1;33m(\u001b[0m\u001b[1;34m'5 trees for training dataset: '\u001b[0m \u001b[1;33m+\u001b[0m \u001b[0mstr\u001b[0m\u001b[1;33m(\u001b[0m\u001b[0mmetrics\u001b[0m\u001b[1;33m.\u001b[0m\u001b[0maccuracy_score\u001b[0m\u001b[1;33m(\u001b[0m\u001b[0mY_train\u001b[0m\u001b[1;33m,\u001b[0m \u001b[0mY_pred_train_5\u001b[0m\u001b[1;33m)\u001b[0m\u001b[1;33m)\u001b[0m\u001b[1;33m)\u001b[0m\u001b[1;33m\u001b[0m\u001b[1;33m\u001b[0m\u001b[0m\n\u001b[0;32m      4\u001b[0m \u001b[0mprint\u001b[0m\u001b[1;33m(\u001b[0m\u001b[1;34m'5 trees for training dataset: '\u001b[0m \u001b[1;33m+\u001b[0m \u001b[0mstr\u001b[0m\u001b[1;33m(\u001b[0m\u001b[0mmetrics\u001b[0m\u001b[1;33m.\u001b[0m\u001b[0maccuracy_score\u001b[0m\u001b[1;33m(\u001b[0m\u001b[0mY_train\u001b[0m\u001b[1;33m,\u001b[0m \u001b[0mY_pred_train_5\u001b[0m\u001b[1;33m)\u001b[0m\u001b[1;33m)\u001b[0m\u001b[1;33m)\u001b[0m\u001b[1;33m\u001b[0m\u001b[1;33m\u001b[0m\u001b[0m\n\u001b[0;32m      5\u001b[0m \u001b[0mprint\u001b[0m\u001b[1;33m(\u001b[0m\u001b[1;34m'5 trees for training dataset: '\u001b[0m \u001b[1;33m+\u001b[0m \u001b[0mstr\u001b[0m\u001b[1;33m(\u001b[0m\u001b[0mmetrics\u001b[0m\u001b[1;33m.\u001b[0m\u001b[0maccuracy_score\u001b[0m\u001b[1;33m(\u001b[0m\u001b[0mY_train\u001b[0m\u001b[1;33m,\u001b[0m \u001b[0mY_pred_train_5\u001b[0m\u001b[1;33m)\u001b[0m\u001b[1;33m)\u001b[0m\u001b[1;33m)\u001b[0m\u001b[1;33m\u001b[0m\u001b[1;33m\u001b[0m\u001b[0m\n",
      "\u001b[1;31mNameError\u001b[0m: name 'metrics' is not defined"
     ]
    }
   ],
   "source": [
    "print('Random Forest 28x28 pixels training dataset')\n",
    "\n",
    "print('1 tree for training dataset: ' + str(metrics.accuracy_score(Y_train, Y_pred_train_1)))\n",
    "print('5 trees for training dataset: ' + str(metrics.accuracy_score(Y_train, Y_pred_train_5)))\n",
    "print('10 trees for training dataset: ' + str(metrics.accuracy_score(Y_train, Y_pred_train_10)))\n",
    "print('50 trees for training dataset: ' + str(metrics.accuracy_score(Y_train, Y_pred_train_50)))\n",
    "print('100 trees for training dataset: ' + str(metrics.accuracy_score(Y_train, Y_pred_train_100)))\n",
    "print('500 trees for training dataset: ' + str(metrics.accuracy_score(Y_train, Y_pred_train_500)))"
   ]
  },
  {
   "cell_type": "markdown",
   "metadata": {},
   "source": [
    "----"
   ]
  },
  {
   "cell_type": "code",
   "execution_count": 9,
   "metadata": {},
   "outputs": [],
   "source": [
    "test_df = pd.read_csv('./archive/data/validation/test_rgb_28.csv')\n",
    "\n",
    "X_test = test_df.values[:, 1:].astype(float)\n",
    "Y_test = test_df.values[:, 0]"
   ]
  },
  {
   "cell_type": "code",
   "execution_count": 10,
   "metadata": {},
   "outputs": [
    {
     "name": "stdout",
     "output_type": "stream",
     "text": [
      "1 tree for test dataset: 0.8979489744872436\n"
     ]
    }
   ],
   "source": [
    "Y_pred_test_1 = clf_1.predict(X_test)\n",
    "print('1 tree for test dataset: ' + str(metrics.accuracy_score(Y_test, Y_pred_test_1)))"
   ]
  },
  {
   "cell_type": "code",
   "execution_count": 11,
   "metadata": {},
   "outputs": [
    {
     "name": "stdout",
     "output_type": "stream",
     "text": [
      "5 trees for test dataset: 0.9269634817408704\n"
     ]
    }
   ],
   "source": [
    "Y_pred_test_5 = clf_5.predict(X_test)\n",
    "print('5 trees for test dataset: ' + str(metrics.accuracy_score(Y_test, Y_pred_test_5)))"
   ]
  },
  {
   "cell_type": "code",
   "execution_count": 12,
   "metadata": {},
   "outputs": [
    {
     "name": "stdout",
     "output_type": "stream",
     "text": [
      "10 trees for test dataset: 0.9429714857428715\n"
     ]
    }
   ],
   "source": [
    "Y_pred_test_10 = clf_10.predict(X_test)\n",
    "print('10 trees for test dataset: ' + str(metrics.accuracy_score(Y_test, Y_pred_test_10)))"
   ]
  },
  {
   "cell_type": "code",
   "execution_count": 13,
   "metadata": {},
   "outputs": [
    {
     "name": "stdout",
     "output_type": "stream",
     "text": [
      "50 trees for test dataset: 0.9424712356178089\n"
     ]
    }
   ],
   "source": [
    "Y_pred_test_50 = clf_50.predict(X_test)\n",
    "print('50 trees for test dataset: ' + str(metrics.accuracy_score(Y_test, Y_pred_test_50)))"
   ]
  },
  {
   "cell_type": "code",
   "execution_count": 14,
   "metadata": {
    "scrolled": true
   },
   "outputs": [
    {
     "name": "stdout",
     "output_type": "stream",
     "text": [
      "100 trees for test dataset: 0.9454727363681841\n"
     ]
    }
   ],
   "source": [
    "Y_pred_test_100 = clf_100.predict(X_test)\n",
    "print('100 trees for test dataset: ' + str(metrics.accuracy_score(Y_test, Y_pred_test_100)))"
   ]
  },
  {
   "cell_type": "code",
   "execution_count": 15,
   "metadata": {
    "scrolled": false
   },
   "outputs": [
    {
     "name": "stdout",
     "output_type": "stream",
     "text": [
      "500 trees for test dataset: 0.9449724862431216\n"
     ]
    }
   ],
   "source": [
    "Y_pred_test_500 = clf_500.predict(X_test)\n",
    "print('500 trees for test dataset: ' + str(metrics.accuracy_score(Y_test, Y_pred_test_500)))"
   ]
  },
  {
   "cell_type": "code",
   "execution_count": null,
   "metadata": {},
   "outputs": [],
   "source": [
    "print('Random Forest 28x28 pixels test dataset')\n",
    "\n",
    "Y_pred_test_1 = clf_1.predict(X_test)\n",
    "Y_pred_test_5 = clf_5.predict(X_test)\n",
    "Y_pred_test_10 = clf_10.predict(X_test)\n",
    "Y_pred_test_50 = clf_50.predict(X_test)\n",
    "Y_pred_test_100 = clf_100.predict(X_test)\n",
    "Y_pred_test_500 = clf_500.predict(X_test)"
   ]
  },
  {
   "cell_type": "code",
   "execution_count": null,
   "metadata": {},
   "outputs": [],
   "source": [
    "print('1 tree for test dataset: ' + str(metrics.accuracy_score(Y_test, Y_pred_test_1)))\n",
    "print('5 trees for test dataset: ' + str(metrics.accuracy_score(Y_test, Y_pred_test_5)))\n",
    "print('10 trees for test dataset: ' + str(metrics.accuracy_score(Y_test, Y_pred_test_10)))\n",
    "print('50 trees for test dataset: ' + str(metrics.accuracy_score(Y_test, Y_pred_test_50)))\n",
    "print('100 trees for test dataset: ' + str(metrics.accuracy_score(Y_test, Y_pred_test_100)))\n",
    "print('500 trees for test dataset: ' + str(metrics.accuracy_score(Y_test, Y_pred_test_500)))"
   ]
  }
 ],
 "metadata": {
  "kernelspec": {
   "display_name": "Python 3",
   "language": "python",
   "name": "python3"
  },
  "language_info": {
   "codemirror_mode": {
    "name": "ipython",
    "version": 3
   },
   "file_extension": ".py",
   "mimetype": "text/x-python",
   "name": "python",
   "nbconvert_exporter": "python",
   "pygments_lexer": "ipython3",
   "version": "3.7.6"
  }
 },
 "nbformat": 4,
 "nbformat_minor": 4
}
